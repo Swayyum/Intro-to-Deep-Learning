{
 "cells": [
  {
   "cell_type": "markdown",
   "source": [
    "Data Preprocessing"
   ],
   "metadata": {
    "collapsed": false
   },
   "id": "97c3653d22990a1a"
  },
  {
   "cell_type": "code",
   "execution_count": 1,
   "id": "initial_id",
   "metadata": {
    "collapsed": true,
    "ExecuteTime": {
     "end_time": "2024-04-13T01:31:24.220482600Z",
     "start_time": "2024-04-13T01:29:18.113178300Z"
    }
   },
   "outputs": [
    {
     "name": "stdout",
     "output_type": "stream",
     "text": [
      "Processing train data...\n",
      "Finished processing 8691 images from train set.\n",
      "Processing valid data...\n",
      "Finished processing 2483 images from valid set.\n",
      "Processing test data...\n",
      "Finished processing 1242 images from test set.\n"
     ]
    }
   ],
   "source": [
    "import os\n",
    "import numpy as np\n",
    "from PIL import Image\n",
    "\n",
    "def parse_annotation(labels_path):\n",
    "    objects = []\n",
    "    with open(labels_path, 'r') as file:\n",
    "        for line in file.readlines():\n",
    "            parts = line.strip().split()\n",
    "            class_id = int(parts[0])\n",
    "            coordinates = list(map(float, parts[1:]))  # Convert all to float\n",
    "            xs = coordinates[0::2]  # Extract all x coordinates\n",
    "            ys = coordinates[1::2]  # Extract all y coordinates\n",
    "            xmin, xmax = min(xs), max(xs)\n",
    "            ymin, ymax = min(ys), max(ys)\n",
    "            objects.append((class_id, xmin, ymin, xmax, ymax))\n",
    "    return objects\n",
    "\n",
    "# def check_annotation_example(annotation_dir):\n",
    "#     example_annotation_file = next(os.path.join(annotation_dir, f) for f in os.listdir(annotation_dir) if f.endswith('.txt'))\n",
    "#     with open(example_annotation_file, 'r') as file:\n",
    "#         for i, line in enumerate(file):\n",
    "#             print(f\"Line {i + 1}: {line.strip()}\")\n",
    "#             if i >= 5:  # Print only the first 5 lines\n",
    "#                 break\n",
    "# \n",
    "# # Call this function to check the format\n",
    "# annotation_dir = os.path.join(r'C:/Users/SirM/Desktop/Swayam/Intro to Deep Learning/Intro-to-Deep-Learning/Final Project/PKLot.v1-raw.yolov8-obb', 'train', 'labels')  # Adjust as necessary\n",
    "# check_annotation_example(annotation_dir)\n",
    "\n",
    "def resize_image(image, new_width, new_height, boxes):\n",
    "    width, height = image.size\n",
    "    resize_ratio_w = new_width / width\n",
    "    resize_ratio_h = new_height / height\n",
    "    image = image.resize((new_width, new_height))\n",
    "    \n",
    "    resized_boxes = []\n",
    "    for box in boxes:\n",
    "        class_id, x1, y1, x2, y2 = box\n",
    "        resized_boxes.append((\n",
    "            class_id,\n",
    "            x1 * resize_ratio_w,\n",
    "            y1 * resize_ratio_h,\n",
    "            x2 * resize_ratio_w,\n",
    "            y2 * resize_ratio_h\n",
    "        ))\n",
    "    return image, resized_boxes\n",
    "\n",
    "def preprocess_image(image_path, annotation_path, target_size=(128, 128)):\n",
    "    image = Image.open(image_path)\n",
    "    boxes = parse_annotation(annotation_path)\n",
    "    \n",
    "    image, boxes = resize_image(image, target_size[0], target_size[1], boxes)\n",
    "    image_np = np.array(image) / 255.0  # Normalize pixel values\n",
    "    \n",
    "    return image_np, boxes\n",
    "\n",
    "def process_directory(data_dir, annotation_dir, target_size=(128, 128)):\n",
    "    processed_data = []\n",
    "    for img_filename in os.listdir(data_dir):\n",
    "        if img_filename.endswith('.jpg'):\n",
    "            image_path = os.path.join(data_dir, img_filename)\n",
    "            annotation_path = os.path.join(annotation_dir, img_filename.replace('.jpg', '.txt'))\n",
    "            processed_image, processed_boxes = preprocess_image(image_path, annotation_path, target_size)\n",
    "            processed_data.append((processed_image, processed_boxes))\n",
    "    return processed_data\n",
    "\n",
    "# Example usage\n",
    "dataset_base = r'C:/Users/SirM/Desktop/Swayam/Intro to Deep Learning/Intro-to-Deep-Learning/Final Project/PKLot.v1-raw.yolov8-obb'\n",
    "partitions = ['train', 'valid', 'test']\n",
    "target_size = (128, 128)  # Change as required by your model\n",
    "\n",
    "all_data = {}\n",
    "for part in partitions:\n",
    "    print(f\"Processing {part} data...\")\n",
    "    images_dir = os.path.join(dataset_base, part, 'images')\n",
    "    annotations_dir = os.path.join(dataset_base, part, 'labels')  # Adjust if different\n",
    "    all_data[part] = process_directory(images_dir, annotations_dir, target_size)\n",
    "    print(f\"Finished processing {len(all_data[part])} images from {part} set.\")\n"
   ]
  },
  {
   "cell_type": "markdown",
   "source": [
    "Data Augmentation And Basic Resnet50 Model"
   ],
   "metadata": {
    "collapsed": false
   },
   "id": "3a37a00de704d100"
  },
  {
   "cell_type": "code",
   "outputs": [
    {
     "ename": "TypeError",
     "evalue": "PKLotDataset.__init__() got an unexpected keyword argument 'target_size'",
     "output_type": "error",
     "traceback": [
      "\u001B[1;31m---------------------------------------------------------------------------\u001B[0m",
      "\u001B[1;31mTypeError\u001B[0m                                 Traceback (most recent call last)",
      "Cell \u001B[1;32mIn[9], line 44\u001B[0m\n\u001B[0;32m     38\u001B[0m transform \u001B[38;5;241m=\u001B[39m transforms\u001B[38;5;241m.\u001B[39mCompose([\n\u001B[0;32m     39\u001B[0m     transforms\u001B[38;5;241m.\u001B[39mResize((\u001B[38;5;241m128\u001B[39m, \u001B[38;5;241m128\u001B[39m)),  \u001B[38;5;66;03m# Resize the image\u001B[39;00m\n\u001B[0;32m     40\u001B[0m     transforms\u001B[38;5;241m.\u001B[39mToTensor()           \u001B[38;5;66;03m# Convert the resized PIL Image to a tensor\u001B[39;00m\n\u001B[0;32m     41\u001B[0m ])\n\u001B[0;32m     43\u001B[0m \u001B[38;5;66;03m# Create instances of the PKLotDataset\u001B[39;00m\n\u001B[1;32m---> 44\u001B[0m train_dataset \u001B[38;5;241m=\u001B[39m \u001B[43mPKLotDataset\u001B[49m\u001B[43m(\u001B[49m\n\u001B[0;32m     45\u001B[0m \u001B[43m    \u001B[49m\u001B[43mimage_dir\u001B[49m\u001B[38;5;241;43m=\u001B[39;49m\u001B[38;5;124;43mr\u001B[39;49m\u001B[38;5;124;43m'\u001B[39;49m\u001B[38;5;124;43mC:/Users/SirM/Desktop/Swayam/Intro to Deep Learning/Intro-to-Deep-Learning/Final Project/PKLot.v1-raw.yolov8-obb/train/images\u001B[39;49m\u001B[38;5;124;43m'\u001B[39;49m\u001B[43m,\u001B[49m\n\u001B[0;32m     46\u001B[0m \u001B[43m    \u001B[49m\u001B[43mannotation_dir\u001B[49m\u001B[38;5;241;43m=\u001B[39;49m\u001B[38;5;124;43mr\u001B[39;49m\u001B[38;5;124;43m'\u001B[39;49m\u001B[38;5;124;43mC:/Users/SirM/Desktop/Swayam/Intro to Deep Learning/Intro-to-Deep-Learning/Final Project/PKLot.v1-raw.yolov8-obb/train/labels\u001B[39;49m\u001B[38;5;124;43m'\u001B[39;49m\u001B[43m,\u001B[49m\n\u001B[0;32m     47\u001B[0m \u001B[43m    \u001B[49m\u001B[43mtransform\u001B[49m\u001B[38;5;241;43m=\u001B[39;49m\u001B[43mtransforms\u001B[49m\u001B[38;5;241;43m.\u001B[39;49m\u001B[43mCompose\u001B[49m\u001B[43m(\u001B[49m\u001B[43m[\u001B[49m\n\u001B[0;32m     48\u001B[0m \u001B[43m        \u001B[49m\u001B[43mtransforms\u001B[49m\u001B[38;5;241;43m.\u001B[39;49m\u001B[43mResize\u001B[49m\u001B[43m(\u001B[49m\u001B[43m(\u001B[49m\u001B[38;5;241;43m128\u001B[39;49m\u001B[43m,\u001B[49m\u001B[43m \u001B[49m\u001B[38;5;241;43m128\u001B[39;49m\u001B[43m)\u001B[49m\u001B[43m)\u001B[49m\u001B[43m,\u001B[49m\u001B[43m  \u001B[49m\u001B[38;5;66;43;03m# Resize the image to the desired size\u001B[39;49;00m\n\u001B[0;32m     49\u001B[0m \u001B[43m        \u001B[49m\u001B[43mtransforms\u001B[49m\u001B[38;5;241;43m.\u001B[39;49m\u001B[43mToTensor\u001B[49m\u001B[43m(\u001B[49m\u001B[43m)\u001B[49m\u001B[43m  \u001B[49m\u001B[38;5;66;43;03m# Then convert it to a PyTorch Tensor\u001B[39;49;00m\n\u001B[0;32m     50\u001B[0m \u001B[43m    \u001B[49m\u001B[43m]\u001B[49m\u001B[43m)\u001B[49m\u001B[43m,\u001B[49m\n\u001B[0;32m     51\u001B[0m \u001B[43m    \u001B[49m\u001B[43mtarget_size\u001B[49m\u001B[38;5;241;43m=\u001B[39;49m\u001B[43m(\u001B[49m\u001B[38;5;241;43m128\u001B[39;49m\u001B[43m,\u001B[49m\u001B[43m \u001B[49m\u001B[38;5;241;43m128\u001B[39;49m\u001B[43m)\u001B[49m\u001B[43m  \u001B[49m\u001B[38;5;66;43;03m# You may define the target size here if different from transform\u001B[39;49;00m\n\u001B[0;32m     52\u001B[0m \u001B[43m)\u001B[49m\n\u001B[0;32m     54\u001B[0m val_dataset \u001B[38;5;241m=\u001B[39m PKLotDataset(\n\u001B[0;32m     55\u001B[0m     image_dir\u001B[38;5;241m=\u001B[39m\u001B[38;5;124mr\u001B[39m\u001B[38;5;124m'\u001B[39m\u001B[38;5;124mC:/Users/SirM/Desktop/Swayam/Intro to Deep Learning/Intro-to-Deep-Learning/Final Project/PKLot.v1-raw.yolov8-obb/valid/images\u001B[39m\u001B[38;5;124m'\u001B[39m,\n\u001B[0;32m     56\u001B[0m     annotation_dir\u001B[38;5;241m=\u001B[39m\u001B[38;5;124mr\u001B[39m\u001B[38;5;124m'\u001B[39m\u001B[38;5;124mC:/Users/SirM/Desktop/Swayam/Intro to Deep Learning/Intro-to-Deep-Learning/Final Project/PKLot.v1-raw.yolov8-obb/valid/labels\u001B[39m\u001B[38;5;124m'\u001B[39m,\n\u001B[1;32m   (...)\u001B[0m\n\u001B[0;32m     61\u001B[0m     target_size\u001B[38;5;241m=\u001B[39m(\u001B[38;5;241m128\u001B[39m, \u001B[38;5;241m128\u001B[39m)\n\u001B[0;32m     62\u001B[0m )\n\u001B[0;32m     64\u001B[0m test_dataset \u001B[38;5;241m=\u001B[39m PKLotDataset(\n\u001B[0;32m     65\u001B[0m     image_dir\u001B[38;5;241m=\u001B[39m\u001B[38;5;124mr\u001B[39m\u001B[38;5;124m'\u001B[39m\u001B[38;5;124mC:/Users/SirM/Desktop/Swayam/Intro to Deep Learning/Intro-to-Deep-Learning/Final Project/PKLot.v1-raw.yolov8-obb/test/images\u001B[39m\u001B[38;5;124m'\u001B[39m,\n\u001B[0;32m     66\u001B[0m     annotation_dir\u001B[38;5;241m=\u001B[39m\u001B[38;5;124mr\u001B[39m\u001B[38;5;124m'\u001B[39m\u001B[38;5;124mC:/Users/SirM/Desktop/Swayam/Intro to Deep Learning/Intro-to-Deep-Learning/Final Project/PKLot.v1-raw.yolov8-obb/test/labels\u001B[39m\u001B[38;5;124m'\u001B[39m,\n\u001B[1;32m   (...)\u001B[0m\n\u001B[0;32m     71\u001B[0m     target_size\u001B[38;5;241m=\u001B[39m(\u001B[38;5;241m128\u001B[39m, \u001B[38;5;241m128\u001B[39m)\n\u001B[0;32m     72\u001B[0m )\n",
      "\u001B[1;31mTypeError\u001B[0m: PKLotDataset.__init__() got an unexpected keyword argument 'target_size'"
     ]
    }
   ],
   "source": [
    "import os\n",
    "import torch\n",
    "from torch.utils.data import Dataset\n",
    "from PIL import Image\n",
    "import torch.optim as optim\n",
    "from torch.utils.data import DataLoader\n",
    "from torchvision import transforms\n",
    "from torchvision.models.detection import fasterrcnn_resnet50_fpn\n",
    "from torchvision.models.detection.faster_rcnn import FastRCNNPredictor\n",
    "\n",
    "class PKLotDataset(Dataset):\n",
    "    def __init__(self, image_dir, annotation_dir, transform=None):\n",
    "        self.image_dir = image_dir\n",
    "        self.annotation_dir = annotation_dir\n",
    "        self.transform = transform\n",
    "        self.images = [os.path.join(image_dir, img) for img in os.listdir(image_dir) if img.endswith('.jpg')]\n",
    "\n",
    "    def __len__(self):\n",
    "        return len(self.images)\n",
    "\n",
    "    def __getitem__(self, idx):\n",
    "        image_path = self.images[idx]\n",
    "        annotation_path = os.path.join(self.annotation_dir, os.path.basename(image_path).replace('.jpg', '.txt'))\n",
    "\n",
    "        image = Image.open(image_path).convert('RGB')\n",
    "        if self.transform:\n",
    "            image = self.transform(image)\n",
    "\n",
    "        # Load and format your bounding boxes and labels correctly\n",
    "        # Placeholder for actual annotation loading code\n",
    "        boxes = torch.tensor([[0, 0, 100, 100]], dtype=torch.float32)  # Example box\n",
    "        labels = torch.tensor([1], dtype=torch.int64)  # Example label\n",
    "\n",
    "        target = {'boxes': boxes, 'labels': labels}\n",
    "\n",
    "        return image, target\n",
    "    \n",
    "transform = transforms.Compose([\n",
    "    transforms.Resize((128, 128)),  # Resize the image\n",
    "    transforms.ToTensor()           # Convert the resized PIL Image to a tensor\n",
    "])\n",
    "\n",
    "# Create instances of the PKLotDataset\n",
    "train_dataset = PKLotDataset(\n",
    "    image_dir=r'C:/Users/SirM/Desktop/Swayam/Intro to Deep Learning/Intro-to-Deep-Learning/Final Project/PKLot.v1-raw.yolov8-obb/train/images',\n",
    "    annotation_dir=r'C:/Users/SirM/Desktop/Swayam/Intro to Deep Learning/Intro-to-Deep-Learning/Final Project/PKLot.v1-raw.yolov8-obb/train/labels',\n",
    "    transform=transforms.Compose([\n",
    "        transforms.Resize((128, 128)),  # Resize the image to the desired size\n",
    "        transforms.ToTensor()  # Then convert it to a PyTorch Tensor\n",
    "    ]),\n",
    "    target_size=(128, 128)  # You may define the target size here if different from transform\n",
    ")\n",
    "\n",
    "val_dataset = PKLotDataset(\n",
    "    image_dir=r'C:/Users/SirM/Desktop/Swayam/Intro to Deep Learning/Intro-to-Deep-Learning/Final Project/PKLot.v1-raw.yolov8-obb/valid/images',\n",
    "    annotation_dir=r'C:/Users/SirM/Desktop/Swayam/Intro to Deep Learning/Intro-to-Deep-Learning/Final Project/PKLot.v1-raw.yolov8-obb/valid/labels',\n",
    "    transform=transforms.Compose([\n",
    "        transforms.Resize((128, 128)),\n",
    "        transforms.ToTensor()\n",
    "    ]),\n",
    "    target_size=(128, 128)\n",
    ")\n",
    "\n",
    "test_dataset = PKLotDataset(\n",
    "    image_dir=r'C:/Users/SirM/Desktop/Swayam/Intro to Deep Learning/Intro-to-Deep-Learning/Final Project/PKLot.v1-raw.yolov8-obb/test/images',\n",
    "    annotation_dir=r'C:/Users/SirM/Desktop/Swayam/Intro to Deep Learning/Intro-to-Deep-Learning/Final Project/PKLot.v1-raw.yolov8-obb/test/labels',\n",
    "    transform=transforms.Compose([\n",
    "        transforms.Resize((128, 128)),\n",
    "        transforms.ToTensor()\n",
    "    ]),\n",
    "    target_size=(128, 128)\n",
    ")\n",
    "\n",
    "device = torch.device(\"cuda\" if torch.cuda.is_available() else \"cpu\")\n",
    "\n",
    "# Hyperparameters\n",
    "num_epochs = 50\n",
    "learning_rate = 0.001\n",
    "batch_size = 16\n",
    "\n",
    "# Create data loaders\n",
    "train_loader = DataLoader(dataset=train_dataset, batch_size=batch_size, shuffle=True)\n",
    "val_loader = DataLoader(dataset=val_dataset, batch_size=batch_size, shuffle=False)\n",
    "\n",
    "# Load a pre-trained Faster R-CNN model\n",
    "model = fasterrcnn_resnet50_fpn(pretrained=True)\n",
    "num_classes = 2  # Number of classes (e.g., empty, occupied)\n",
    "\n",
    "# Replace the classifier with a new one\n",
    "in_features = model.roi_heads.box_predictor.cls_score.in_features\n",
    "model.roi_heads.box_predictor = FastRCNNPredictor(in_features, num_classes)\n",
    "model.to(device)\n",
    "\n",
    "# Loss and optimizer\n",
    "optimizer = optim.Adam(model.parameters(), lr=learning_rate)\n",
    "\n",
    "# Train the model\n",
    "for epoch in range(num_epochs):\n",
    "    model.train()\n",
    "    for images, targets in train_loader:\n",
    "        images = [image.to(device) for image in images]\n",
    "        targets = [{k: v.to(device) for k, v in t.items()} for t in targets]\n",
    "\n",
    "        optimizer.zero_grad()\n",
    "        loss_dict = model(images, targets)\n",
    "        losses = sum(loss for loss in loss_dict.values())\n",
    "        losses.backward()\n",
    "        optimizer.step()\n",
    "\n",
    "# Save the model\n",
    "torch.save(model.state_dict(), 'model.pth')"
   ],
   "metadata": {
    "collapsed": false,
    "ExecuteTime": {
     "end_time": "2024-04-13T01:40:46.919803Z",
     "start_time": "2024-04-13T01:40:46.871796100Z"
    }
   },
   "id": "2829ca022a0cac8a",
   "execution_count": 9
  },
  {
   "cell_type": "markdown",
   "source": [
    "Semantics CNN"
   ],
   "metadata": {
    "collapsed": false
   },
   "id": "201d7c498005250c"
  },
  {
   "cell_type": "code",
   "outputs": [],
   "source": [],
   "metadata": {
    "collapsed": false,
    "ExecuteTime": {
     "start_time": "2024-04-13T01:31:47.288465900Z"
    }
   },
   "id": "8c912b5cbb17159a"
  }
 ],
 "metadata": {
  "kernelspec": {
   "display_name": "Python 3",
   "language": "python",
   "name": "python3"
  },
  "language_info": {
   "codemirror_mode": {
    "name": "ipython",
    "version": 2
   },
   "file_extension": ".py",
   "mimetype": "text/x-python",
   "name": "python",
   "nbconvert_exporter": "python",
   "pygments_lexer": "ipython2",
   "version": "2.7.6"
  }
 },
 "nbformat": 4,
 "nbformat_minor": 5
}
