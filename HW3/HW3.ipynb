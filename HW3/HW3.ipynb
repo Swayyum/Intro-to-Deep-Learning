{
 "cells": [
  {
   "cell_type": "code",
   "execution_count": 6,
   "id": "initial_id",
   "metadata": {
    "collapsed": true,
    "ExecuteTime": {
     "end_time": "2024-02-26T02:15:36.515480800Z",
     "start_time": "2024-02-26T02:15:33.725162800Z"
    }
   },
   "outputs": [
    {
     "name": "stdout",
     "output_type": "stream",
     "text": [
      "Epoch 1/10\n",
      "19/19 [==============================] - 1s 13ms/step - loss: 3.5904\n",
      "Epoch 2/10\n",
      "19/19 [==============================] - 0s 4ms/step - loss: 3.0635\n",
      "Epoch 3/10\n",
      "19/19 [==============================] - 0s 4ms/step - loss: 2.9987\n",
      "Epoch 4/10\n",
      "19/19 [==============================] - 0s 4ms/step - loss: 2.9829\n",
      "Epoch 5/10\n",
      "19/19 [==============================] - 0s 4ms/step - loss: 2.9601\n",
      "Epoch 6/10\n",
      "19/19 [==============================] - 0s 4ms/step - loss: 2.9356\n",
      "Epoch 7/10\n",
      "19/19 [==============================] - 0s 4ms/step - loss: 2.9033\n",
      "Epoch 8/10\n",
      "19/19 [==============================] - 0s 4ms/step - loss: 2.8600\n",
      "Epoch 9/10\n",
      "19/19 [==============================] - 0s 4ms/step - loss: 2.8160\n",
      "Epoch 10/10\n",
      "19/19 [==============================] - 0s 5ms/step - loss: 2.7781\n",
      "Predicted next character for 'Next character prediction is a fundamental task' is: ' '\n"
     ]
    }
   ],
   "source": [
    "import tensorflow as tf\n",
    "from tensorflow.keras.models import Sequential\n",
    "from tensorflow.keras.layers import LSTM, Dense\n",
    "import numpy as np\n",
    "\n",
    "# Provided text\n",
    "text = \"Next character prediction is a fundamental task in the field of natural language processing (NLP) that involves predicting the next character in a sequence of text based on the characters that precede it. This task is essential for various applications, including text auto-completion, spell checking, and even in the development of sophisticated AI models capable of generating human-like text. At its core, next character prediction relies on statistical models or deep learning algorithms to analyze a given sequence of text and predict which character is most likely to follow. These predictions are based on patterns and relationships learned from large datasets of text during the training phase of the model. One of the most popular approaches to next character prediction involves the use of Recurrent Neural Networks (RNNs), and more specifically, a variant called Long Short-Term Memory (LSTM) networks. RNNs are particularly well-suited for sequential data like text, as they can maintain information in 'memory' about previous characters to inform the prediction of the next character. LSTM networks enhance this capability by being able to remember long-term dependencies, making them even more effective for next character prediction tasks. Training a model for next character prediction involves feeding it large amounts of text data, allowing it to learn the probability of each character's appearance following a sequence of characters. During this training process, the model adjusts its parameters to minimize the difference between its predictions and the actual outcomes, thus improving its predictive accuracy over time. Once trained, the model can be used to predict the next character in a given piece of text by considering the sequence of characters that precede it. This can enhance user experience in text editing software, improve efficiency in coding environments with auto-completion features, and enable more natural interactions with AI-based chatbots and virtual assistants. In summary, next character prediction plays a crucial role in enhancing the capabilities of various NLP applications, making text-based interactions more efficient, accurate, and human-like. Through the use of advanced machine learning models like RNNs and LSTMs, next character prediction continues to evolve, opening new possibilities for the future of text-based technology.\"\n",
    "\n",
    "# Creating character index mappings\n",
    "chars = sorted(set(text))\n",
    "char_to_index = {char: index for index, char in enumerate(chars)}\n",
    "index_to_char = {index: char for index, char in enumerate(chars)}\n",
    "\n",
    "# Preparing the dataset\n",
    "max_length = 10\n",
    "step = 1\n",
    "sequences = []\n",
    "next_chars = []\n",
    "\n",
    "for i in range(0, len(text) - max_length, step):\n",
    "    sequences.append([char_to_index[char] for char in text[i: i + max_length]])\n",
    "    next_chars.append(char_to_index[text[i + max_length]])\n",
    "\n",
    "# Vectorization\n",
    "X = np.zeros((len(sequences), max_length, len(chars)), dtype=np.float32)\n",
    "y = np.zeros((len(sequences), len(chars)), dtype=np.float32)\n",
    "\n",
    "for i, sequence in enumerate(sequences):\n",
    "    for t, char_index in enumerate(sequence):\n",
    "        X[i, t, char_index] = 1\n",
    "    y[i, next_chars[i]] = 1\n",
    "\n",
    "# Define LSTM model\n",
    "model = Sequential([\n",
    "    LSTM(128, input_shape=(max_length, len(chars))),\n",
    "    Dense(len(chars), activation='softmax')\n",
    "])\n",
    "\n",
    "# Compile the model\n",
    "model.compile(loss='categorical_crossentropy', optimizer='adam')\n",
    "\n",
    "# Training the model\n",
    "model.fit(X, y, batch_size=128, epochs=10)\n",
    "\n",
    "# Prediction function\n",
    "def predict_next_char(model, input_text, char_to_index, index_to_char):\n",
    "    x_pred = np.zeros((1, max_length, len(chars)))\n",
    "    input_text = input_text[-max_length:]  # Ensure input is not longer than max_length\n",
    "    for t, char in enumerate(input_text):\n",
    "        if char in char_to_index:  # Check if char is known\n",
    "            x_pred[0, t, char_to_index[char]] = 1.\n",
    "    preds = model.predict(x_pred, verbose=0)[0]\n",
    "    next_index = np.argmax(preds)\n",
    "    next_char = index_to_char[next_index]\n",
    "    return next_char\n",
    "\n",
    "# Example prediction\n",
    "test_start = \"Next character prediction is a fundamental task\"\n",
    "print(f\"Predicted next character for '{test_start}' is: '{predict_next_char(model, test_start, char_to_index, index_to_char)}'\")\n"
   ]
  },
  {
   "cell_type": "code",
   "outputs": [],
   "source": [],
   "metadata": {
    "collapsed": false
   },
   "id": "c287bd79a886816f"
  }
 ],
 "metadata": {
  "kernelspec": {
   "display_name": "Python 3",
   "language": "python",
   "name": "python3"
  },
  "language_info": {
   "codemirror_mode": {
    "name": "ipython",
    "version": 2
   },
   "file_extension": ".py",
   "mimetype": "text/x-python",
   "name": "python",
   "nbconvert_exporter": "python",
   "pygments_lexer": "ipython2",
   "version": "2.7.6"
  }
 },
 "nbformat": 4,
 "nbformat_minor": 5
}
